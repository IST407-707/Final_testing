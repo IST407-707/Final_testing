{
 "cells": [
  {
   "cell_type": "markdown",
   "id": "d44af17f-e747-4c62-9815-797c1fea63dc",
   "metadata": {},
   "source": [
    "# data merging \n",
    "\n",
    "_desired model inputs:_\n",
    "\n",
    "Player Efficiency Ratings of each player - seasons_per_s.csv \n",
    "\n",
    "Location of the game- arena volume_game_stats.parquet.gzip\n",
    "\n",
    "Teams average last season then (last 5 games) - subset\n",
    "Individual game stats (2022)\n",
    "\n",
    "potentially compare past matchups between the two teams \n",
    "\n"
   ]
  },
  {
   "cell_type": "code",
   "execution_count": 1,
   "id": "c80bfa6e-56cf-4aa3-914b-d76dda6e1b52",
   "metadata": {
    "tags": []
   },
   "outputs": [],
   "source": [
    "import pandas as pd"
   ]
  },
  {
   "cell_type": "code",
   "execution_count": 12,
   "id": "1cdcea82-d79a-41cc-8c63-f94ee9970efa",
   "metadata": {
    "tags": []
   },
   "outputs": [],
   "source": [
    "season_games_overview = pd.concat([pd.read_parquet('[2019, 2020].parquet.gzip'), pd.read_parquet('[2021, 2022].parquet.gzip')], ignore_index = True)\n",
    "season_games_overview['date'] = pd.to_datetime(season_games_overview['date'])\n"
   ]
  },
  {
   "cell_type": "code",
   "execution_count": 9,
   "id": "3538fa7c-19ac-436f-8864-7f587bd1c0dc",
   "metadata": {
    "tags": []
   },
   "outputs": [],
   "source": [
    "# game_stats = pd.read_parquet(\"[2021, 2022]_game_stats.parquet.gzip\")\n",
    "# game_stats['date'] = pd.to_datetime(game_stats['date'])\n",
    "# game_stats"
   ]
  },
  {
   "cell_type": "code",
   "execution_count": 8,
   "id": "d4ab49ba-bdbc-4440-8945-df4a9645318f",
   "metadata": {
    "tags": []
   },
   "outputs": [],
   "source": [
    "def get_team_stats(date, num_games, team_id): #maybe add stats data as a param \n",
    "    #to prevent data leakage drop games newer than the date of the game \n",
    "    all_game_stats = pd.read_parquet(\"[2021, 2022]_game_stats.parquet.gzip\")\n",
    "    all_game_stats= all_game_stats[all_game_stats['date'] < date\n",
    "    team_game_stats = \n",
    "    \n",
    "    \n",
    "    \n"
   ]
  }
 ],
 "metadata": {
  "kernelspec": {
   "display_name": "Python 3 (ipykernel)",
   "language": "python",
   "name": "python3"
  },
  "language_info": {
   "codemirror_mode": {
    "name": "ipython",
    "version": 3
   },
   "file_extension": ".py",
   "mimetype": "text/x-python",
   "name": "python",
   "nbconvert_exporter": "python",
   "pygments_lexer": "ipython3",
   "version": "3.11.4"
  }
 },
 "nbformat": 4,
 "nbformat_minor": 5
}
